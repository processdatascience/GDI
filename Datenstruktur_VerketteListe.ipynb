{
 "cells": [
  {
   "cell_type": "markdown",
   "metadata": {},
   "source": [
    "# Verkettete Liste für Strings\n",
    "\n",
    "Dieses Notebook implementiert eine einfache verkettete Liste für Strings mit Operationen zum Einfügen, Löschen und Suchen.\n"
   ]
  },
  {
   "cell_type": "code",
   "execution_count": null,
   "metadata": {},
   "outputs": [],
   "source": [
    "from __future__ import annotations\n",
    "\n",
    "class Node:\n",
    "    def __init__(self, value: str, next: Node | None = None):\n",
    "        self.value = value\n",
    "        self.next = next\n",
    "\n",
    "class LinkedList:\n",
    "    def __init__(self):\n",
    "        self.head: Node | None = None\n",
    "\n",
    "    def insert(self, value: str) -> None:\n",
    "        \"\"\"Fügt einen neuen Knoten am Anfang der Liste ein.\"\"\"\n",
    "        new_node = Node(value, self.head)\n",
    "        self.head = new_node\n",
    "\n",
    "    def delete(self, value: str) -> bool:\n",
    "        \"\"\"Löscht den ersten Knoten mit dem gegebenen Wert.\n",
    "        Gibt True zurück, wenn ein Knoten gelöscht wurde, sonst False.\"\"\"\n",
    "        current = self.head\n",
    "        prev = None\n",
    "        while current:\n",
    "            if current.value == value:\n",
    "                if prev:\n",
    "                    prev.next = current.next\n",
    "                else:\n",
    "                    self.head = current.next\n",
    "                return True\n",
    "            prev = current\n",
    "            current = current.next\n",
    "        return False\n",
    "\n",
    "    def search(self, value: str) -> Node | None:\n",
    "        \"\"\"Sucht einen Knoten mit dem gegebenen Wert und gibt ihn zurück.\n",
    "        Gibt None zurück, wenn der Wert nicht vorhanden ist.\"\"\"\n",
    "        current = self.head\n",
    "        while current:\n",
    "            if current.value == value:\n",
    "                return current\n",
    "            current = current.next\n",
    "        return None\n",
    "\n",
    "    def __str__(self) -> str:\n",
    "        values = []\n",
    "        current = self.head\n",
    "        while current:\n",
    "            values.append(current.value)\n",
    "            current = current.next\n",
    "        return ' -> '.join(values)\n"
   ]
  },
  {
   "cell_type": "code",
   "execution_count": null,
   "metadata": {},
   "outputs": [],
   "source": [
    "# Beispielverwendung\n",
    "ll = LinkedList()\n",
    "ll.insert(\"Alpha\")\n",
    "ll.insert(\"Beta\")\n",
    "ll.insert(\"Gamma\")\n",
    "print(ll)\n",
    "ll.delete(\"Beta\")\n",
    "print(ll)\n",
    "print('Gamma gefunden?', bool(ll.search(\"Gamma\")))\n",
    "print('Beta gefunden?', bool(ll.search(\"Beta\")))\n"
   ]
  }
 ],
 "metadata": {
  "kernelspec": {
   "display_name": "Python 3",
   "language": "python",
   "name": "python3"
  },
  "language_info": {
   "name": "python",
   "version": "3.12.10"
  }
 },
 "nbformat": 4,
 "nbformat_minor": 5
}
